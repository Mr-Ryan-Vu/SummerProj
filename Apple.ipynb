{
 "cells": [
  {
   "cell_type": "code",
   "execution_count": 23,
   "id": "d81eb5e2",
   "metadata": {
    "scrolled": true
   },
   "outputs": [
    {
     "name": "stderr",
     "output_type": "stream",
     "text": [
      "[nltk_data] Downloading package vader_lexicon to\n",
      "[nltk_data]     /Users/arthurt/nltk_data...\n",
      "[nltk_data]   Package vader_lexicon is already up-to-date!\n"
     ]
    }
   ],
   "source": [
    "#import libraries \n",
    "import sys\n",
    "import matplotlib.pyplot as plt # plotting\n",
    "plt.style.use('ggplot')\n",
    "import numpy as np #linear alg\n",
    "import os # accessing directory structure\n",
    "import pandas as pd #CSV data \n",
    "from sklearn.linear_model import LinearRegression\n",
    "from sklearn.model_selection import KFold\n",
    "import nltk\n",
    "nltk.download('vader_lexicon')\n",
    "\n",
    "import warnings\n",
    "warnings. filterwarnings(\"ignore\")"
   ]
  },
  {
   "cell_type": "code",
   "execution_count": 24,
   "id": "740c3d76",
   "metadata": {},
   "outputs": [],
   "source": [
    "df1 = pd.read_csv('AppleFinalData.csv')"
   ]
  },
  {
   "cell_type": "code",
   "execution_count": 25,
   "id": "3cfd3052",
   "metadata": {},
   "outputs": [],
   "source": [
    "df2 = pd.read_csv('AppleNewsStock.csv')"
   ]
  },
  {
   "cell_type": "code",
   "execution_count": 26,
   "id": "cdc4ad4f",
   "metadata": {},
   "outputs": [],
   "source": [
    "from nltk.sentiment.vader import SentimentIntensityAnalyzer\n",
    "import unicodedata\n",
    "sid = SentimentIntensityAnalyzer()\n",
    "\n",
    "neg, neu, pos, compound = [], [], [], []\n",
    "\n",
    "def sentiment(df):\n",
    "    for i in range(len(df)):\n",
    "        sen = unicodedata.normalize('NFKD', train.iloc[i]['News'])\n",
    "        ss = sid.polarity_scores(sen)\n",
    "        neg.append(ss['neg'])\n",
    "        neu.append(ss['neu'])\n",
    "        pos.append(ss['pos'])\n",
    "        compound.append(ss['compound'])\n",
    "    df['neg'] = neg\n",
    "    df['neu'] = neu\n",
    "    df['pos'] = pos\n",
    "    df['compound'] = compound\n",
    "    \n",
    "    \"\"\"In summary, this code calculates sentiment scores \n",
    "    (negative, neutral, positive, and compound) for each piece of text in the \n",
    "    \"News\" column of the DataFrame df using the VADER sentiment analyzer and \n",
    "    adds these scores as new columns to the DataFrame.\"\"\""
   ]
  },
  {
   "cell_type": "code",
   "execution_count": 27,
   "id": "444a8133",
   "metadata": {},
   "outputs": [],
   "source": [
    "def if_news(column):\n",
    "    if column ==0:\n",
    "        return 0\n",
    "    else:\n",
    "        return 1"
   ]
  },
  {
   "cell_type": "code",
   "execution_count": 28,
   "id": "b2099dde",
   "metadata": {},
   "outputs": [],
   "source": [
    "df1['if_news'] = df1['compound'].apply(if_news)\n",
    "\n",
    "df_weekly = df1[['Date','Close', 'compound', 'neg', 'pos', 'if_news']]\n",
    "df_weekly['Date'] = pd.to_datetime(df_weekly['Date'])\n",
    "df_weekly.set_index('Date',inplace=True)\n",
    "#creates a new column in df1 called 'if_news'it uses apply to apply if_news into each compound \n",
    "#column and they can be put into binary values where 0 indicates"
   ]
  },
  {
   "cell_type": "code",
   "execution_count": 29,
   "id": "160fed22",
   "metadata": {},
   "outputs": [],
   "source": [
    "def take_last(array_like):\n",
    "    return array_like[-1]"
   ]
  },
  {
   "cell_type": "code",
   "execution_count": 30,
   "id": "a762b20b",
   "metadata": {},
   "outputs": [],
   "source": [
    "output = df_weekly.resample('W', loffset=pd.Timedelta(days=-6)).agg({\n",
    "    'Close': 'last',\n",
    "    'compound': 'mean',\n",
    "    'neg': 'mean',\n",
    "    'pos': 'mean',\n",
    "    'if_news': 'max'\n",
    "})\n",
    "# calculates mean for the weekly sentiment score for neg and pos, \n",
    "#then close means where the value \n",
    "# of the stock closed. "
   ]
  },
  {
   "cell_type": "code",
   "execution_count": 31,
   "id": "e267b413",
   "metadata": {},
   "outputs": [
    {
     "data": {
      "text/html": [
       "<div>\n",
       "<style scoped>\n",
       "    .dataframe tbody tr th:only-of-type {\n",
       "        vertical-align: middle;\n",
       "    }\n",
       "\n",
       "    .dataframe tbody tr th {\n",
       "        vertical-align: top;\n",
       "    }\n",
       "\n",
       "    .dataframe thead th {\n",
       "        text-align: right;\n",
       "    }\n",
       "</style>\n",
       "<table border=\"1\" class=\"dataframe\">\n",
       "  <thead>\n",
       "    <tr style=\"text-align: right;\">\n",
       "      <th></th>\n",
       "      <th>Close</th>\n",
       "      <th>compound</th>\n",
       "      <th>neg</th>\n",
       "      <th>pos</th>\n",
       "      <th>if_news</th>\n",
       "    </tr>\n",
       "    <tr>\n",
       "      <th>Date</th>\n",
       "      <th></th>\n",
       "      <th></th>\n",
       "      <th></th>\n",
       "      <th></th>\n",
       "      <th></th>\n",
       "    </tr>\n",
       "  </thead>\n",
       "  <tbody>\n",
       "    <tr>\n",
       "      <th>2006-11-27</th>\n",
       "      <td>91.32</td>\n",
       "      <td>0.770700</td>\n",
       "      <td>0.032000</td>\n",
       "      <td>0.063000</td>\n",
       "      <td>1</td>\n",
       "    </tr>\n",
       "    <tr>\n",
       "      <th>2006-12-04</th>\n",
       "      <td>88.26</td>\n",
       "      <td>0.141400</td>\n",
       "      <td>0.043000</td>\n",
       "      <td>0.057400</td>\n",
       "      <td>1</td>\n",
       "    </tr>\n",
       "    <tr>\n",
       "      <th>2006-12-11</th>\n",
       "      <td>87.72</td>\n",
       "      <td>0.100180</td>\n",
       "      <td>0.040000</td>\n",
       "      <td>0.052400</td>\n",
       "      <td>1</td>\n",
       "    </tr>\n",
       "    <tr>\n",
       "      <th>2006-12-18</th>\n",
       "      <td>82.20</td>\n",
       "      <td>-0.007940</td>\n",
       "      <td>0.060800</td>\n",
       "      <td>0.061000</td>\n",
       "      <td>1</td>\n",
       "    </tr>\n",
       "    <tr>\n",
       "      <th>2006-12-25</th>\n",
       "      <td>84.84</td>\n",
       "      <td>0.483825</td>\n",
       "      <td>0.067500</td>\n",
       "      <td>0.096000</td>\n",
       "      <td>1</td>\n",
       "    </tr>\n",
       "    <tr>\n",
       "      <th>2007-01-01</th>\n",
       "      <td>85.05</td>\n",
       "      <td>0.475767</td>\n",
       "      <td>0.049333</td>\n",
       "      <td>0.078333</td>\n",
       "      <td>1</td>\n",
       "    </tr>\n",
       "    <tr>\n",
       "      <th>2007-01-08</th>\n",
       "      <td>94.62</td>\n",
       "      <td>0.141240</td>\n",
       "      <td>0.066000</td>\n",
       "      <td>0.071000</td>\n",
       "      <td>1</td>\n",
       "    </tr>\n",
       "    <tr>\n",
       "      <th>2007-01-15</th>\n",
       "      <td>88.50</td>\n",
       "      <td>0.468150</td>\n",
       "      <td>0.057000</td>\n",
       "      <td>0.105750</td>\n",
       "      <td>1</td>\n",
       "    </tr>\n",
       "    <tr>\n",
       "      <th>2007-01-22</th>\n",
       "      <td>85.38</td>\n",
       "      <td>0.597520</td>\n",
       "      <td>0.026000</td>\n",
       "      <td>0.078800</td>\n",
       "      <td>1</td>\n",
       "    </tr>\n",
       "    <tr>\n",
       "      <th>2007-01-29</th>\n",
       "      <td>84.75</td>\n",
       "      <td>0.337800</td>\n",
       "      <td>0.061800</td>\n",
       "      <td>0.083600</td>\n",
       "      <td>1</td>\n",
       "    </tr>\n",
       "  </tbody>\n",
       "</table>\n",
       "</div>"
      ],
      "text/plain": [
       "            Close  compound       neg       pos  if_news\n",
       "Date                                                    \n",
       "2006-11-27  91.32  0.770700  0.032000  0.063000        1\n",
       "2006-12-04  88.26  0.141400  0.043000  0.057400        1\n",
       "2006-12-11  87.72  0.100180  0.040000  0.052400        1\n",
       "2006-12-18  82.20 -0.007940  0.060800  0.061000        1\n",
       "2006-12-25  84.84  0.483825  0.067500  0.096000        1\n",
       "2007-01-01  85.05  0.475767  0.049333  0.078333        1\n",
       "2007-01-08  94.62  0.141240  0.066000  0.071000        1\n",
       "2007-01-15  88.50  0.468150  0.057000  0.105750        1\n",
       "2007-01-22  85.38  0.597520  0.026000  0.078800        1\n",
       "2007-01-29  84.75  0.337800  0.061800  0.083600        1"
      ]
     },
     "execution_count": 31,
     "metadata": {},
     "output_type": "execute_result"
    }
   ],
   "source": [
    "output.head(10)"
   ]
  },
  {
   "cell_type": "code",
   "execution_count": 32,
   "id": "048c4cbb",
   "metadata": {},
   "outputs": [
    {
     "data": {
      "text/plain": [
       "\"\\nPerform k-fold cross-validation on the data\\n\\nParameters\\n----------\\ndf: DataFrame containing the data with date as the index\\nX: DataFrame containing the independent variable(s) (i.e., features, predictors)\\ny: DataFrame containing the dependent variable (i.e., the target)\\nk: Number of folds for cross-validation (default is 5)\\n\\nOptional\\n--------\\nseed: Integer used as the seed for a random number generator\\n      You don't necessarily NEED to use a random number generator, but if you do, please use the default value for seed\\n\\nReturns\\n-------\\nList of tuples: Each tuple contains (X_train, X_test, y_train, y_test) for one fold\\n\""
      ]
     },
     "execution_count": 32,
     "metadata": {},
     "output_type": "execute_result"
    }
   ],
   "source": [
    "    \"\"\"\n",
    "    Perform k-fold cross-validation on the data\n",
    "    \n",
    "    Parameters\n",
    "    ----------\n",
    "    df: DataFrame containing the data with date as the index\n",
    "    X: DataFrame containing the independent variable(s) (i.e., features, predictors)\n",
    "    y: DataFrame containing the dependent variable (i.e., the target)\n",
    "    k: Number of folds for cross-validation (default is 5)\n",
    "    \n",
    "    Optional\n",
    "    --------\n",
    "    seed: Integer used as the seed for a random number generator\n",
    "          You don't necessarily NEED to use a random number generator, but if you do, please use the default value for seed\n",
    "    \n",
    "    Returns\n",
    "    -------\n",
    "    List of tuples: Each tuple contains (X_train, X_test, y_train, y_test) for one fold\n",
    "    \"\"\""
   ]
  },
  {
   "cell_type": "code",
   "execution_count": 33,
   "id": "767ee978",
   "metadata": {},
   "outputs": [],
   "source": [
    "def k_fold_split(df, X, y, k=5, seed=42):\n",
    "\n",
    "    # Create the random number generator\n",
    "    rng = np.random.RandomState(seed)\n",
    "    \n",
    "    # Create k-fold cross-validator\n",
    "    kfold = KFold(n_splits=k, shuffle=True, random_state=rng)\n",
    "    \n",
    "    # Initialize list to store the train-test splits\n",
    "    splits = []\n",
    "    \n",
    "    for train_idx, test_idx in kfold.split(df):\n",
    "        # Split the data into train and test sets based on the index\n",
    "        X_train, X_test = X.iloc[train_idx], X.iloc[test_idx]\n",
    "        y_train, y_test = y.iloc[train_idx], y.iloc[test_idx]\n",
    "        \n",
    "        # Add the current fold split to the list\n",
    "        splits.append((X_train, X_test, y_train, y_test))\n",
    "    \n",
    "    return splits"
   ]
  }
 ],
 "metadata": {
  "kernelspec": {
   "display_name": "Python 3 (ipykernel)",
   "language": "python",
   "name": "python3"
  },
  "language_info": {
   "codemirror_mode": {
    "name": "ipython",
    "version": 3
   },
   "file_extension": ".py",
   "mimetype": "text/x-python",
   "name": "python",
   "nbconvert_exporter": "python",
   "pygments_lexer": "ipython3",
   "version": "3.11.3"
  }
 },
 "nbformat": 4,
 "nbformat_minor": 5
}
