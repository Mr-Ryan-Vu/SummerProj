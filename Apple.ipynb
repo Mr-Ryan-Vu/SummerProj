{
 "cells": [
  {
   "cell_type": "code",
   "execution_count": null,
   "id": "d81eb5e2",
   "metadata": {
    "scrolled": true
   },
   "outputs": [],
   "source": [
    "#import libraries \n",
    "import sys\n",
    "import matplotlib.pyplot as plt # plotting\n",
    "plt.style.use('ggplot')\n",
    "import numpy as np #linear alg\n",
    "import os # accessing directory structure\n",
    "import pandas as pd #CSV data \n",
    "from sklearn.linear_model import LinearRegression\n",
    "from sklearn.model_selection import KFold\n",
    "import nltk\n",
    "nltk.download('vader_lexicon')\n",
    "\n",
    "import warnings\n",
    "warnings. filterwarnings(\"ignore\")"
   ]
  },
  {
   "cell_type": "code",
   "execution_count": null,
   "id": "740c3d76",
   "metadata": {},
   "outputs": [],
   "source": [
    "df1 = pd.read_csv('AppleFinalData.csv')"
   ]
  },
  {
   "cell_type": "code",
   "execution_count": null,
   "id": "3cfd3052",
   "metadata": {},
   "outputs": [],
   "source": [
    "df2 = pd.read_csv('AppleNewsStock.csv')"
   ]
  },
  {
   "cell_type": "code",
   "execution_count": null,
   "id": "cdc4ad4f",
   "metadata": {},
   "outputs": [],
   "source": [
    "from nltk.sentiment.vader import SentimentIntensityAnalyzer\n",
    "import unicodedata\n",
    "sid = SentimentIntensityAnalyzer()\n",
    "\n",
    "neg, neu, pos, compound = [], [], [], []\n",
    "\n",
    "def sentiment(df):\n",
    "    for i in range(len(df)):\n",
    "        sen = unicodedata.normalize('NFKD', train.iloc[i]['News'])\n",
    "        ss = sid.polarity_scores(sen)\n",
    "        neg.append(ss['neg'])\n",
    "        neu.append(ss['neu'])\n",
    "        pos.append(ss['pos'])\n",
    "        compound.append(ss['compound'])\n",
    "    df['neg'] = neg\n",
    "    df['neu'] = neu\n",
    "    df['pos'] = pos\n",
    "    df['compound'] = compound\n",
    "    \n",
    "    \"\"\"In summary, this code calculates sentiment scores \n",
    "    (negative, neutral, positive, and compound) for each piece of text in the \n",
    "    \"News\" column of the DataFrame df using the VADER sentiment analyzer and \n",
    "    adds these scores as new columns to the DataFrame.\"\"\""
   ]
  },
  {
   "cell_type": "code",
   "execution_count": null,
   "id": "444a8133",
   "metadata": {},
   "outputs": [],
   "source": [
    "def if_news(column):\n",
    "    if column ==0:\n",
    "        return 0\n",
    "    else:\n",
    "        return 1"
   ]
  },
  {
   "cell_type": "code",
   "execution_count": null,
   "id": "b2099dde",
   "metadata": {},
   "outputs": [],
   "source": [
    "df1['if_news'] = df1['compound'].apply(if_news)\n",
    "\n",
    "df_weekly = df1[['Date','Close', 'compound', 'neg', 'pos', 'if_news']]\n",
    "df_weekly['Date'] = pd.to_datetime(df_weekly['Date'])\n",
    "df_weekly.set_index('Date',inplace=True)\n",
    "#creates a new column in df1 called 'if_news'it uses apply to apply if_news into each compound \n",
    "#column and they can be put into binary values where 0 indicates"
   ]
  },
  {
   "cell_type": "code",
   "execution_count": null,
   "id": "160fed22",
   "metadata": {},
   "outputs": [],
   "source": [
    "def take_last(array_like):\n",
    "    return array_like[-1]"
   ]
  },
  {
   "cell_type": "code",
   "execution_count": null,
   "id": "a762b20b",
   "metadata": {},
   "outputs": [],
   "source": [
    "output = df_weekly.resample('W', loffset=pd.Timedelta(days=-6)).agg({\n",
    "    'Close': 'last',\n",
    "    'compound': 'mean',\n",
    "    'neg': 'mean',\n",
    "    'pos': 'mean',\n",
    "    'if_news': 'max'\n",
    "})\n",
    "# calculates mean for the weekly sentiment score for neg and pos, \n",
    "#then close means where the value \n",
    "# of the stock closed. "
   ]
  },
  {
   "cell_type": "code",
   "execution_count": null,
   "id": "e267b413",
   "metadata": {},
   "outputs": [],
   "source": [
    "output.head(10)"
   ]
  },
  {
   "cell_type": "code",
   "execution_count": null,
   "id": "048c4cbb",
   "metadata": {},
   "outputs": [],
   "source": [
    "    \"\"\"\n",
    "    Perform k-fold cross-validation on the data\n",
    "    \n",
    "    Parameters\n",
    "    ----------\n",
    "    df: DataFrame containing the data with date as the index\n",
    "    X: DataFrame containing the independent variable(s) (i.e., features, predictors)\n",
    "    y: DataFrame containing the dependent variable (i.e., the target)\n",
    "    k: Number of folds for cross-validation (default is 5)\n",
    "    \n",
    "    Optional\n",
    "    --------\n",
    "    seed: Integer used as the seed for a random number generator\n",
    "          You don't necessarily NEED to use a random number generator, but if you do, please use the default value for seed\n",
    "    \n",
    "    Returns\n",
    "    -------\n",
    "    List of tuples: Each tuple contains (X_train, X_test, y_train, y_test) for one fold\n",
    "    \"\"\""
   ]
  },
  {
   "cell_type": "code",
   "execution_count": null,
   "id": "767ee978",
   "metadata": {},
   "outputs": [],
   "source": [
    "def k_fold_split(df, X, y, k=5, seed=42):\n",
    "\n",
    "    # Create the random number generator\n",
    "    rng = np.random.RandomState(seed)\n",
    "    \n",
    "    # Create k-fold cross-validator\n",
    "    kfold = KFold(n_splits=k, shuffle=True, random_state=rng)\n",
    "    \n",
    "    # Initialize list to store the train-test splits\n",
    "    splits = []\n",
    "    \n",
    "    for train_idx, test_idx in kfold.split(df):\n",
    "        # Split the data into train and test sets based on the index\n",
    "        X_train, X_test = X.iloc[train_idx], X.iloc[test_idx]\n",
    "        y_train, y_test = y.iloc[train_idx], y.iloc[test_idx]\n",
    "        \n",
    "        # Add the current fold split to the list\n",
    "        splits.append((X_train, X_test, y_train, y_test))\n",
    "    \n",
    "    return splits"
   ]
  }
 ],
 "metadata": {
  "kernelspec": {
   "display_name": "Python 3 (ipykernel)",
   "language": "python",
   "name": "python3"
  },
  "language_info": {
   "codemirror_mode": {
    "name": "ipython",
    "version": 3
   },
   "file_extension": ".py",
   "mimetype": "text/x-python",
   "name": "python",
   "nbconvert_exporter": "python",
   "pygments_lexer": "ipython3",
   "version": "3.11.3"
  }
 },
 "nbformat": 4,
 "nbformat_minor": 5
}
