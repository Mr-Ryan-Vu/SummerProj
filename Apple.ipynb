{
 "cells": [
  {
   "cell_type": "code",
   "execution_count": 67,
   "id": "d81eb5e2",
   "metadata": {
    "scrolled": true
   },
   "outputs": [
    {
     "name": "stderr",
     "output_type": "stream",
     "text": [
      "[nltk_data] Downloading package vader_lexicon to\n",
      "[nltk_data]     /Users/arthurt/nltk_data...\n",
      "[nltk_data]   Package vader_lexicon is already up-to-date!\n"
     ]
    }
   ],
   "source": [
    "#import libraries \n",
    "import sys\n",
    "import matplotlib.pyplot as plt # plotting\n",
    "plt.style.use('ggplot')\n",
    "import numpy as np #linear alg\n",
    "import os # accessing directory structure\n",
    "import pandas as pd #CSV data \n",
    "from sklearn.linear_model import LinearRegression\n",
    "import nltk\n",
    "nltk.download('vader_lexicon')\n",
    "\n",
    "import warnings\n",
    "warnings. filterwarnings(\"ignore\")"
   ]
  },
  {
   "cell_type": "code",
   "execution_count": 68,
   "id": "740c3d76",
   "metadata": {},
   "outputs": [],
   "source": [
    "df1 = pd.read_csv('AppleFinalData.csv')"
   ]
  },
  {
   "cell_type": "code",
   "execution_count": 69,
   "id": "3cfd3052",
   "metadata": {},
   "outputs": [],
   "source": [
    "df2 = pd.read_csv('AppleNewsStock.csv')"
   ]
  },
  {
   "cell_type": "code",
   "execution_count": 70,
   "id": "cdc4ad4f",
   "metadata": {},
   "outputs": [],
   "source": [
    "from nltk.sentiment.vader import SentimentIntensityAnalyzer\n",
    "import unicodedata\n",
    "sid = SentimentIntensityAnalyzer()\n",
    "\n",
    "neg, neu, pos, compound = [], [], [], []\n",
    "\n",
    "def sentiment(df):\n",
    "    for i in range(len(df)):\n",
    "        sen = unicodedata.normalize('NFKD', train.iloc[i]['News'])\n",
    "        ss = sid.polarity_scores(sen)\n",
    "        neg.append(ss['neg'])\n",
    "        neu.append(ss['neu'])\n",
    "        pos.append(ss['pos'])\n",
    "        compound.append(ss['compound'])\n",
    "    df['neg'] = neg\n",
    "    df['neu'] = neu\n",
    "    df['pos'] = pos\n",
    "    df['compound'] = compound\n",
    "    \n",
    "    \"\"\"In summary, this code calculates sentiment scores \n",
    "    (negative, neutral, positive, and compound) for each piece of text in the \n",
    "    \"News\" column of the DataFrame df using the VADER sentiment analyzer and \n",
    "    adds these scores as new columns to the DataFrame.\"\"\""
   ]
  },
  {
   "cell_type": "code",
   "execution_count": 71,
   "id": "444a8133",
   "metadata": {},
   "outputs": [],
   "source": [
    "def if_news(column):\n",
    "    if column ==0:\n",
    "        return 0\n",
    "    else:\n",
    "        return 1"
   ]
  },
  {
   "cell_type": "code",
   "execution_count": 72,
   "id": "b2099dde",
   "metadata": {},
   "outputs": [],
   "source": [
    "df1['if_news'] = df1['compound'].apply(if_news)\n",
    "\n",
    "df_weekly = df1[['Date','Close', 'compound', 'neg', 'pos', 'if_news']]\n",
    "df_weekly['Date'] = pd.to_datetime(df_weekly['Date'])\n",
    "df_weekly.set_index('Date',inplace=True)\n",
    "#creates a new column in df1 called 'if_news'it uses apply to apply if_news into each compound \n",
    "#column and they can be put into binary values where 0 indicates"
   ]
  },
  {
   "cell_type": "code",
   "execution_count": 73,
   "id": "160fed22",
   "metadata": {},
   "outputs": [],
   "source": [
    "def take_last(array_like):\n",
    "    return array_like[-1]"
   ]
  },
  {
   "cell_type": "code",
   "execution_count": 74,
   "id": "a762b20b",
   "metadata": {},
   "outputs": [],
   "source": [
    "output = df_weekly.resample('W', loffset=pd.Timedelta(days=-6)).agg({\n",
    "    'Close': 'last',\n",
    "    'compound': 'mean',\n",
    "    'neg': 'mean',\n",
    "    'pos': 'mean',\n",
    "    'if_news': 'max'\n",
    "})"
   ]
  },
  {
   "cell_type": "code",
   "execution_count": null,
   "id": "e267b413",
   "metadata": {},
   "outputs": [],
   "source": []
  }
 ],
 "metadata": {
  "kernelspec": {
   "display_name": "Python 3 (ipykernel)",
   "language": "python",
   "name": "python3"
  },
  "language_info": {
   "codemirror_mode": {
    "name": "ipython",
    "version": 3
   },
   "file_extension": ".py",
   "mimetype": "text/x-python",
   "name": "python",
   "nbconvert_exporter": "python",
   "pygments_lexer": "ipython3",
   "version": "3.11.3"
  }
 },
 "nbformat": 4,
 "nbformat_minor": 5
}
